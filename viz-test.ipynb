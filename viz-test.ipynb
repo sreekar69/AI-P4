{
 "cells": [
  {
   "cell_type": "code",
   "execution_count": null,
   "id": "182a0d8a",
   "metadata": {},
   "outputs": [],
   "source": [
    "from matplotlib import pyplot\n",
    "import random\n",
    "import time\n",
    "import movement_viz as v\n",
    "\n",
    "#initializing grid\n",
    "fig = pyplot.figure(figsize=(10,10))\n",
    "\n",
    "# testing grid display\n",
    "data = [[0] * 40 for temp in range(40)]\n",
    "v.update_grid(data)\n",
    "\n",
    "# testing display update in same window\n",
    "data[0][0] = 1\n",
    "v.update_grid(data)\n",
    "data = [[0] * 40 for temp in range(40)]\n",
    "\n",
    "data[0][1] = 1\n",
    "v.update_grid(data)\n",
    "data = [[0] * 40 for temp in range(40)]\n"
   ]
  }
 ],
 "metadata": {
  "kernelspec": {
   "display_name": "Python 3 (ipykernel)",
   "language": "python",
   "name": "python3"
  },
  "language_info": {
   "codemirror_mode": {
    "name": "ipython",
    "version": 3
   },
   "file_extension": ".py",
   "mimetype": "text/x-python",
   "name": "python",
   "nbconvert_exporter": "python",
   "pygments_lexer": "ipython3",
   "version": "3.10.9"
  }
 },
 "nbformat": 4,
 "nbformat_minor": 5
}
