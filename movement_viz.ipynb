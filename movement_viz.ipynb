{
 "cells": [
  {
   "cell_type": "code",
   "execution_count": null,
   "id": "6f30e8b1",
   "metadata": {},
   "outputs": [],
   "source": [
    "from matplotlib import pyplot\n",
    "import os\n",
    "import random\n",
    "import time\n",
    "\n",
    "def update_grid(data, good_term_states, bad_term_states, obstacles, run_num, epoch, world, location, verbose):\n",
    "    pyplot.figure(1)\n",
    "    pyplot.clf()\n",
    "    pyplot.imshow(data)\n",
    "    pyplot.draw()\n",
    "    pyplot.title(f'WORLD: {world} EPOCH: {epoch}')\n",
    "    pyplot.ylim(-1, 41)\n",
    "    pyplot.xlim(-1,41)\n",
    "    for z in obstacles:\n",
    "        pyplot.plot(z[0], z[1], marker=\"s\", color = 'k')\n",
    "    for x in good_term_states:\n",
    "        pyplot.plot(x[0], x[1], marker=\"s\", color = 'g')\n",
    "    for y in bad_term_states:\n",
    "        pyplot.plot(y[0], y[1], marker=\"s\", color = 'r')\n",
    "    pyplot.plot(location[0], location[1], marker=\"*\", color = 'indigo')\n",
    "\n",
    "    #use verbosity to adjust the visibility of the plot \n",
    "    if verbose: \n",
    "        pyplot.show(block = False)\n",
    "        pyplot.pause(0.0001)\n",
    "    \n",
    "    if not os.path.exists(\"./runs/world_{}/attempt_{}\".format(world,run_num)):\n",
    "        os.makedirs(\"./runs/world_{}/attempt_{}\".format(world,run_num))\n",
    "    pyplot.savefig(\"./runs/world_{}/attempt_{}/epoch_{}.png\".format(world, run_num, epoch))"
   ]
  }
 ],
 "metadata": {
  "kernelspec": {
   "display_name": "Python 3 (ipykernel)",
   "language": "python",
   "name": "python3"
  },
  "language_info": {
   "codemirror_mode": {
    "name": "ipython",
    "version": 3
   },
   "file_extension": ".py",
   "mimetype": "text/x-python",
   "name": "python",
   "nbconvert_exporter": "python",
   "pygments_lexer": "ipython3",
   "version": "3.10.9"
  }
 },
 "nbformat": 4,
 "nbformat_minor": 5
}
