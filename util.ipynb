{
 "cells": [
  {
   "cell_type": "code",
   "execution_count": null,
   "id": "cf334564",
   "metadata": {},
   "outputs": [],
   "source": [
    "import matplotlib.pyplot as plt\n",
    "import os\n",
    "import numpy as np\n",
    "\n",
    "def plot_learning(worldId, epoch, cumulative_average, rn):\n",
    "    plt.figure(2)\n",
    "    plt.plot(cumulative_average)\n",
    "    plt.xscale('log')\n",
    "    if not os.path.exists(f'runs/world_{worldId}/attempt_{rn}'):\n",
    "        os.makedirs(f'runs/world_{worldId}/attempt_{rn}')\n",
    "    plt.savefig(f'runs/world_{worldId}/attempt_{rn}/world_{worldId}_epoch{epoch}learning.png')\n",
    "\n",
    "def epsilon_decay(epsilon, epoch, epochs):\n",
    "    '''\n",
    "    function to exponentially decrease the episilon value \n",
    "    acroccs the total number of epochs we train on\n",
    "    this leads us to explore less as we progress through epochs \n",
    "    '''\n",
    "    \n",
    "    epsilon = epsilon*np.exp(-.01*epoch)\n",
    "    \n",
    "    print(f\"\\nNEW EPSILON: {epsilon}\\n\")\n",
    "    return epsilon"
   ]
  }
 ],
 "metadata": {
  "kernelspec": {
   "display_name": "Python 3 (ipykernel)",
   "language": "python",
   "name": "python3"
  },
  "language_info": {
   "codemirror_mode": {
    "name": "ipython",
    "version": 3
   },
   "file_extension": ".py",
   "mimetype": "text/x-python",
   "name": "python",
   "nbconvert_exporter": "python",
   "pygments_lexer": "ipython3",
   "version": "3.10.9"
  }
 },
 "nbformat": 4,
 "nbformat_minor": 5
}
